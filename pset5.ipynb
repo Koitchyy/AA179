{
 "cells": [
  {
   "cell_type": "code",
   "execution_count": 2,
   "id": "254aae43",
   "metadata": {},
   "outputs": [],
   "source": [
    "import numpy as np\n",
    "\n"
   ]
  },
  {
   "cell_type": "markdown",
   "id": "c09d7102",
   "metadata": {},
   "source": [
    "## Pset 5"
   ]
  },
  {
   "cell_type": "markdown",
   "id": "99e049a6",
   "metadata": {},
   "source": [
    "### Useful Constants"
   ]
  },
  {
   "cell_type": "code",
   "execution_count": 3,
   "id": "68e15de2",
   "metadata": {},
   "outputs": [],
   "source": [
    "pi      = np.pi\n",
    "deg2rad = pi / 180.0\n",
    "rad2deg = 180.0 / pi\n",
    "\n",
    "min2rad = deg2rad / 60.0\n",
    "rad2min = rad2deg * 60.0\n",
    "\n",
    "sec2rad = min2rad / 60.0\n",
    "rad2sec = rad2min * 60.0\n",
    "\n",
    "day2sec = 86400.0\n",
    "\n",
    "AU2meter = 1.496e11 \n",
    "km2meter = 1000\n",
    "\n",
    "G = 6.6743e-11\n",
    "m_sun = 1.989e30\n",
    "m_E = 5.97219e24\n",
    "\n",
    "r_E = 6378e3 # m"
   ]
  },
  {
   "cell_type": "markdown",
   "id": "8d60a610",
   "metadata": {},
   "source": [
    "### 1 a) UFO Calculations - semi-major axis"
   ]
  },
  {
   "cell_type": "code",
   "execution_count": 4,
   "id": "3ab7432b",
   "metadata": {},
   "outputs": [
    {
     "name": "stdout",
     "output_type": "stream",
     "text": [
      "Semi-major axis: -127421993657.05507 (m)\n"
     ]
    }
   ],
   "source": [
    "x      = -5.654521158368091E+07 * km2meter\n",
    "y      = -4.141584370434758E+09 * km2meter\n",
    "z      = -2.516187548793956E+09 * km2meter\n",
    "v_x    = 1.894813995825346E+00 * km2meter\n",
    "v_y    = -2.900052383928433E+01 * km2meter\n",
    "v_z    = -1.587424775496980E+01 * km2meter\n",
    "mu_sun = G * m_sun\n",
    "\n",
    "r = np.sqrt(x**2 + y**2 + z**2)\n",
    "v = np.sqrt(v_x**2 + v_y**2 + v_z**2)\n",
    "\n",
    "# from vis-viva law, find semi-major axis\n",
    "a = 1 / (2/r - ((v**2)/mu_sun))\n",
    "\n",
    "print(f\"Semi-major axis: {a} (m)\")"
   ]
  },
  {
   "cell_type": "markdown",
   "id": "62f5026a",
   "metadata": {},
   "source": [
    "### 1 b) Eccentricity"
   ]
  },
  {
   "cell_type": "code",
   "execution_count": 5,
   "id": "0be9a8d5",
   "metadata": {},
   "outputs": [
    {
     "name": "stdout",
     "output_type": "stream",
     "text": [
      "Orbit's eccentricity: 3.3623797228049273\n"
     ]
    }
   ],
   "source": [
    "\n",
    "# find areal velocity vector\n",
    "_h = np.array([y * v_z - z * v_y, \n",
    "               z * v_x - x * v_z, \n",
    "               x * v_y - y * v_x])\n",
    "\n",
    "h = np.linalg.norm(_h)\n",
    "\n",
    "# semi-latus rectum\n",
    "p = (h**2) / mu_sun\n",
    "\n",
    "# compute eccentricity\n",
    "e = np.sqrt(1 - p/a)\n",
    "\n",
    "print(f\"Orbit's eccentricity: {e}\")"
   ]
  },
  {
   "cell_type": "markdown",
   "id": "bdc27910",
   "metadata": {},
   "source": [
    "### 1 d) Object Classification"
   ]
  },
  {
   "cell_type": "code",
   "execution_count": 7,
   "id": "986e7cb1",
   "metadata": {},
   "outputs": [
    {
     "name": "stdout",
     "output_type": "stream",
     "text": [
      "Object Velocity: 33.11513920879449 km/s\n",
      "Object distance: 32.395394539428736 AU\n"
     ]
    }
   ],
   "source": [
    "print(f\"Object Velocity: {v / 1000} km/s\")\n",
    "print(f\"Object distance: {r / AU2meter} AU\")"
   ]
  },
  {
   "cell_type": "code",
   "execution_count": null,
   "id": "40ca4485",
   "metadata": {},
   "outputs": [],
   "source": []
  }
 ],
 "metadata": {
  "kernelspec": {
   "display_name": ".venv",
   "language": "python",
   "name": "python3"
  },
  "language_info": {
   "codemirror_mode": {
    "name": "ipython",
    "version": 3
   },
   "file_extension": ".py",
   "mimetype": "text/x-python",
   "name": "python",
   "nbconvert_exporter": "python",
   "pygments_lexer": "ipython3",
   "version": "3.12.1"
  }
 },
 "nbformat": 4,
 "nbformat_minor": 5
}

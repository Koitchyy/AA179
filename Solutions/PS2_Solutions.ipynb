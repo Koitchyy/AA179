{
 "cells": [
  {
   "cell_type": "code",
   "execution_count": 18,
   "metadata": {},
   "outputs": [],
   "source": [
    "import sys\n",
    "sys.path.append('src/')\n",
    "import numpy as np\n",
    "import matplotlib.pyplot as plt\n",
    "import attitude as att"
   ]
  },
  {
   "attachments": {},
   "cell_type": "markdown",
   "metadata": {},
   "source": [
    "# Question 1"
   ]
  },
  {
   "attachments": {},
   "cell_type": "markdown",
   "metadata": {},
   "source": [
    "### Part a)"
   ]
  },
  {
   "attachments": {},
   "cell_type": "markdown",
   "metadata": {},
   "source": [
    "First, let us consider an infinately thin disc. The moment of inertia of a disc is\n",
    "\n",
    "$\n",
    "I = \\frac{1}{2}Mr^2\n",
    "$\n",
    "\n",
    "which, for an infinately thin surface, can be written as\n",
    "\n",
    "$\n",
    "dI = \\frac{1}{2}r^2 dm\n",
    "$\n",
    "\n",
    "Noting that the density of an object is\n",
    "\n",
    "$\n",
    "\\rho = \\frac{dm}{dV},\n",
    "$\n",
    "\n",
    "and that the volume of an infinately thin disk is\n",
    "\n",
    "$\n",
    "dV = \\pi r^2 dz,\n",
    "$\n",
    "\n",
    "we can compute the differential mass as\n",
    "\n",
    "$\n",
    "dm = \\rho \\pi r^2 dz\n",
    "$\n",
    "\n",
    "Substituting this into the expression for $dI$, we get\n",
    "\n",
    "$\n",
    "dI = \\frac{1}{2}\\rho \\pi r^4 dz\n",
    "$\n",
    "\n",
    "Using Pythagoras theorem, we can compute the current radius of the differential disk as\n",
    "\n",
    "$\n",
    "r^2 = R^2 - z^2\n",
    "$\n",
    "\n",
    "Substituting this into the expression for $dI$, we have\n",
    "\n",
    "$\n",
    "dI = \\frac{1}{2}\\rho \\pi (R^2-z^2)^2dz\n",
    "$\n",
    "\n",
    "We can integrate this over all $z$ \n",
    "\n",
    "$\n",
    "I = \\int_{-R}^{+R} \\frac{1}{2}\\rho \\pi (R^2-z^2)^2dz\n",
    "$\n",
    "\n",
    "to get\n",
    "\n",
    "$\n",
    "I = \\frac{8}{15} \\rho \\pi R^5\n",
    "$\n",
    "\n",
    "Now, we know that density can be computed from\n",
    "\n",
    "$\n",
    "\\rho = \\frac{M}{V} = \\frac{M}{\\frac{4}{3}\\pi R^3}\n",
    "$\n",
    "\n",
    "Substituting this into our final expression for $I$, we have\n",
    "\n",
    "$\n",
    "I = \\frac{2}{5}MR^2\n",
    "$\n",
    "\n",
    "Normalizing this, we get\n",
    "\n",
    "$\n",
    "I/MR^2 = \\frac{2}{5}\n",
    "$"
   ]
  },
  {
   "attachments": {},
   "cell_type": "markdown",
   "metadata": {},
   "source": [
    "### Part b)"
   ]
  },
  {
   "attachments": {},
   "cell_type": "markdown",
   "metadata": {},
   "source": [
    "We are given the following relations for the inner layer $\\rho_1, R_1$ and outer layer $\\rho_2, R_2$:\n",
    "\n",
    "$\n",
    "R_2 = 2R_1\n",
    "$\n",
    "\n",
    "$\n",
    "\\rho_2 = \\frac{1}{3}\\rho_1\n",
    "$\n",
    "\n",
    "The most straightforward way to solve this problem is by overlapping two spheres of density $2\\rho$ (inner sphere) and $\\rho$ (outer sphere). This is equivalent since the overlapping parts of the spheres will result in a density of $3\\rho$ for the interior.\n",
    "\n",
    "$\n",
    "I = \\frac{16}{15}\\rho \\pi R_1^5 + \\frac{8}{15}\\rho \\pi R_2^5\n",
    "$\n",
    "\n",
    "Setting $R=R_2$, we have\n",
    "\n",
    "$\n",
    "I = \\frac{8}{15}\\rho \\pi (\\frac{1}{16}R^5 + R^5) = \\frac{136}{240}\\rho \\pi R^5 = \\frac{17}{30}\\rho \\pi R^5\n",
    "$\n",
    "\n",
    "Now note that the mass can be computed as\n",
    "\n",
    "$\n",
    "M=2\\rho\\frac{4}{3}\\pi(\\frac{R}{2})^3+\\rho\\frac{4}{3}\\pi R^3=\\frac{5}{3}\\rho \\pi R^3\n",
    "$\n",
    "\n",
    "Solving for $\\rho$ we get\n",
    "\n",
    "$\n",
    "\\rho=\\frac{3M}{5\\pi R^3}\n",
    "$\n",
    "\n",
    "Subsituting this in for $\\rho$ in our inertia gives us\n",
    "\n",
    "$\n",
    "I=\\frac{17}{50} M R^2\n",
    "$\n",
    "\n",
    "Normalizing, we get\n",
    "\n",
    "$\n",
    "I/MR^2=\\frac{17}{50}\n",
    "$\n",
    "\n",
    "which is less than the expression from part a). This makes sense since the mass is concentrated closer to the center."
   ]
  },
  {
   "cell_type": "markdown",
   "metadata": {},
   "source": [
    "### Part c)"
   ]
  },
  {
   "cell_type": "markdown",
   "metadata": {},
   "source": [
    "First, let us consider an infinately thin disc with radius r. The moment of inertia of this disc is\n",
    "\n",
    "$\n",
    "I = \\frac{1}{2}Mr^2\n",
    "$\n",
    "\n",
    "which, for an infinately thin surface, can be written as\n",
    "\n",
    "$\n",
    "dI = \\frac{1}{2}r^2 dm\n",
    "$\n",
    "\n",
    "Noting that the density of an object is\n",
    "\n",
    "$\n",
    "\\rho = \\frac{dm}{dV},\n",
    "$\n",
    "\n",
    "and that the volume of an infinately thin disk is\n",
    "\n",
    "$\n",
    "dV = \\pi r^2 dz,\n",
    "$\n",
    "\n",
    "we can compute the differential mass as\n",
    "\n",
    "$\n",
    "dm = \\rho \\pi r^2 dz\n",
    "$\n",
    "\n",
    "Substituting this into the expression for $dI$, we get\n",
    "\n",
    "$\n",
    "dI = \\frac{1}{2}\\rho \\pi r^4 dz\n",
    "$\n",
    "\n",
    "Using Pythagoras theorem, we can compute the current radius of the differential disk as\n",
    "\n",
    "$\n",
    "r = a * \\sqrt{1-\\frac{z^2}{c^2}}\n",
    "$\n",
    "\n",
    "Substituting this into the expression for $dI$, we have\n",
    "\n",
    "$\n",
    "dI = \\frac{1}{2}\\rho \\pi a^4 * (1-\\frac{z^2}{c^2})^2 dz\n",
    "$\n",
    "\n",
    "We can integrate this over all $z$ \n",
    "\n",
    "$\n",
    "I = \\int_{-c}^{+c} \\frac{1}{2}\\rho \\pi a^4 * (1-\\frac{z^2}{c^2})^2 dz\n",
    "$\n",
    "\n",
    "to get\n",
    "\n",
    "$\n",
    "I = \\frac{8}{15} \\rho \\pi a^4c\n",
    "$\n",
    "\n",
    "Now, we know that density can be computed from\n",
    "\n",
    "$\n",
    "\\rho = \\frac{M}{V} = \\frac{M}{\\frac{4}{3}\\pi a^2c}\n",
    "$\n",
    "\n",
    "Substituting this into our final expression for $I$, we have\n",
    "\n",
    "$\n",
    "I = \\frac{2}{5}Ma^2\n",
    "$\n",
    "\n",
    "Normalizing this, we get\n",
    "\n",
    "$\n",
    "I/Ma^2 = \\frac{2}{5}\n",
    "$"
   ]
  },
  {
   "attachments": {},
   "cell_type": "markdown",
   "metadata": {},
   "source": [
    "# Question 2"
   ]
  },
  {
   "attachments": {},
   "cell_type": "markdown",
   "metadata": {},
   "source": [
    "### 2a)"
   ]
  },
  {
   "attachments": {},
   "cell_type": "markdown",
   "metadata": {},
   "source": [
    "In this video, the orientation of the spinning body appears to chaotically flip 180 degrees. This corresponds to the spin direction also rotating 180 degrees. The reason for this is that the body is rotating about its intermediate axis, rather than its major or minor axis. This intermediate spin results in unstable rotation behavior."
   ]
  },
  {
   "attachments": {},
   "cell_type": "markdown",
   "metadata": {},
   "source": [
    "### 2b)"
   ]
  },
  {
   "cell_type": "code",
   "execution_count": 19,
   "metadata": {},
   "outputs": [
    {
     "name": "stdout",
     "output_type": "stream",
     "text": [
      "[[2.94202175e-06 0.00000000e+00 0.00000000e+00]\n",
      " [0.00000000e+00 1.78122781e-05 0.00000000e+00]\n",
      " [0.00000000e+00 0.00000000e+00 2.04809445e-05]]\n"
     ]
    }
   ],
   "source": [
    "rho = 2.7 * 1000\n",
    "RA = 0.0025\n",
    "LA = .05\n",
    "RB = 0.005\n",
    "LB = .1\n",
    "\n",
    "# Function that returns the mass of a cylinder\n",
    "Mcyl = lambda rho, R, L: rho*np.pi*R**2*L\n",
    "\n",
    "# Find cylinder masses\n",
    "MA = Mcyl(rho,RA,LA)\n",
    "MB = Mcyl(rho,RB,LB)\n",
    "\n",
    "# Inertia tensor for cylinder A\n",
    "IA = np.array([\n",
    "    [0.25*MA*RA**2 + 1./12*MA*LA**2, 0, 0],\n",
    "    [0, 0.5*MA*RA**2, 0],\n",
    "    [0, 0, 0.25*MA*RA**2 + 1./12*MA*LA**2]\n",
    "])\n",
    "\n",
    "# Inertia tensor for cylinder B\n",
    "IB = np.array([\n",
    "    [0.5*MB*RB**2, 0, 0],\n",
    "    [0, 0.25*MB*RB**2 + 1./12*MB*LB**2, 0],\n",
    "    [0, 0, 0.25*MB*RB**2 + 1./12*MB*LB**2]\n",
    "])\n",
    "\n",
    "# Calculate the center of mass in the y direction (symmetric in x and z)\n",
    "Scm = (MA*0.5*LA + MB*(LA+RB))/(MA+MB)\n",
    "\n",
    "# Use attitude function to translate inertia tensors to center of mass\n",
    "IA_S = att.inertia_translate(MA, IA, 0, Scm - 0.5*LA, 0)\n",
    "IB_S = att.inertia_translate(MB, IB, 0, Scm - (LA+RB), 0)\n",
    "\n",
    "# Total inertia tensor\n",
    "IS = IA_S + IB_S\n",
    "print(IS)"
   ]
  },
  {
   "attachments": {},
   "cell_type": "markdown",
   "metadata": {},
   "source": [
    "We can see that the $\\widehat{Y}$ direction is the intermediate axis, and that is the axis that the object is spinning about in the video. Therefore, the motion is unstable."
   ]
  },
  {
   "attachments": {},
   "cell_type": "markdown",
   "metadata": {},
   "source": [
    "# Question 3"
   ]
  },
  {
   "cell_type": "markdown",
   "metadata": {},
   "source": [
    "The principal moments of inertia will be the eigenvalues, and the unit vectors of the principal axes will be the eigenvectors."
   ]
  },
  {
   "cell_type": "code",
   "execution_count": 20,
   "metadata": {},
   "outputs": [
    {
     "name": "stdout",
     "output_type": "stream",
     "text": [
      "[0.16614759 0.28275241 0.1717    ]\n",
      "[[ 0.          0.          1.        ]\n",
      " [-0.4816646  -0.87635565  0.        ]\n",
      " [-0.87635565  0.4816646   0.        ]]\n"
     ]
    }
   ],
   "source": [
    "I = np.array([\n",
    "    [0.1717, 0.0, 0.0],\n",
    "    [0, 0.2557, -0.04922],\n",
    "    [0, -0.04922, 0.1932]\n",
    "])\n",
    "\n",
    "# Find eigenvalues and eigenvectors\n",
    "(λ,V) = np.linalg.eig(I)\n",
    "\n",
    "print(λ)\n",
    "print(V)"
   ]
  },
  {
   "attachments": {},
   "cell_type": "markdown",
   "metadata": {},
   "source": [
    "### 3a)"
   ]
  },
  {
   "cell_type": "code",
   "execution_count": 21,
   "metadata": {},
   "outputs": [
    {
     "name": "stdout",
     "output_type": "stream",
     "text": [
      "The principal moments of interia are [0.16614759 0.28275241 0.1717    ]\n"
     ]
    }
   ],
   "source": [
    "print(\"The principal moments of interia are \" + str(λ))"
   ]
  },
  {
   "attachments": {},
   "cell_type": "markdown",
   "metadata": {},
   "source": [
    "### 3b)"
   ]
  },
  {
   "cell_type": "code",
   "execution_count": 22,
   "metadata": {},
   "outputs": [
    {
     "name": "stdout",
     "output_type": "stream",
     "text": [
      "The unit vectors are\n",
      "[ 0.         -0.4816646  -0.87635565]\n",
      "[ 0.         -0.87635565  0.4816646 ]\n",
      "[1. 0. 0.]\n"
     ]
    }
   ],
   "source": [
    "print(\"The unit vectors are\")\n",
    "print(V[:,0])\n",
    "print(V[:,1])\n",
    "print(V[:,2])"
   ]
  },
  {
   "attachments": {},
   "cell_type": "markdown",
   "metadata": {},
   "source": [
    "### 3c)"
   ]
  },
  {
   "cell_type": "code",
   "execution_count": 23,
   "metadata": {},
   "outputs": [
    {
     "name": "stdout",
     "output_type": "stream",
     "text": [
      "The coordinate transform is \n",
      "[[ 0.          0.          1.        ]\n",
      " [-0.4816646  -0.87635565  0.        ]\n",
      " [-0.87635565  0.4816646   0.        ]]\n"
     ]
    }
   ],
   "source": [
    "print(\"The coordinate transform is \")\n",
    "print(V)"
   ]
  },
  {
   "cell_type": "markdown",
   "metadata": {},
   "source": [
    "Qualitatively, the figure showing the y-z plane should have one axis about 28 degrees above the positive z axis and another axis perpendicular to the first. On the figure showing the x-direction, the unit vector should just be pointed in the x-direction."
   ]
  },
  {
   "attachments": {},
   "cell_type": "markdown",
   "metadata": {},
   "source": [
    "# Question 4"
   ]
  },
  {
   "attachments": {},
   "cell_type": "markdown",
   "metadata": {},
   "source": [
    "### 4a)"
   ]
  },
  {
   "cell_type": "markdown",
   "metadata": {},
   "source": [
    "To solve this, we will use:\n",
    "\n",
    "$\\tau = I\\alpha$\n",
    "\n",
    "Since $\\alpha = d\\omega/dt$, we can say:\n",
    "\n",
    "$\\tau * \\Delta t = I * \\Delta \\omega$\n",
    "\n",
    "$\\Delta t = I * \\Delta \\omega / \\tau $\n",
    "\n",
    "The torque is equal to the applied moment, which will be the product of the thrust and the perpendicular distance."
   ]
  },
  {
   "cell_type": "code",
   "execution_count": 24,
   "metadata": {},
   "outputs": [
    {
     "name": "stdout",
     "output_type": "stream",
     "text": [
      "Spinup time = 111.70107212763709\n"
     ]
    }
   ],
   "source": [
    "# Convert rev/min to radians\n",
    "w0 = 2 * 2*np.pi / 60\n",
    "wf = 10 * 2*np.pi / 60\n",
    "\n",
    "Iz = 4000\n",
    "r = 2\n",
    "T = 15\n",
    "\n",
    "# Applied moment\n",
    "M = r * T\n",
    "\n",
    "# Find time\n",
    "t = Iz*(wf-w0) / M\n",
    "print(\"Spinup time = \" + str(t))\n",
    "\n"
   ]
  },
  {
   "attachments": {},
   "cell_type": "markdown",
   "metadata": {},
   "source": [
    "### 4b)"
   ]
  },
  {
   "cell_type": "markdown",
   "metadata": {},
   "source": [
    "The only thing that changes is the value of \"r\""
   ]
  },
  {
   "cell_type": "code",
   "execution_count": 25,
   "metadata": {},
   "outputs": [
    {
     "name": "stdout",
     "output_type": "stream",
     "text": [
      "Spinup time = 18.61684535460618\n"
     ]
    }
   ],
   "source": [
    "r = 10 + 2\n",
    "M = r * T\n",
    "\n",
    "t = Iz*(wf-w0) / M\n",
    "print(\"Spinup time = \" + str(t))"
   ]
  },
  {
   "cell_type": "markdown",
   "metadata": {},
   "source": [
    "### 4c)"
   ]
  },
  {
   "attachments": {},
   "cell_type": "markdown",
   "metadata": {},
   "source": [
    "Although this spinup is much faster, there are two negative implications of placing the thrusters at the end of solar panels. One downside is that the thrusters would excite the flex modes of the solar panels and possibly even break them. You would also need to add fuel lines that extend far beyond the fuel tanks of the spacecraft."
   ]
  },
  {
   "attachments": {},
   "cell_type": "markdown",
   "metadata": {},
   "source": [
    "# Question 5"
   ]
  },
  {
   "attachments": {},
   "cell_type": "markdown",
   "metadata": {},
   "source": [
    "### 5a)"
   ]
  },
  {
   "attachments": {},
   "cell_type": "markdown",
   "metadata": {},
   "source": [
    "We are given the expression for gravity gradient torque as\n",
    "$\n",
    "\\vec{\\tau} = \\frac{3\\mu}{r^5}\\vec{r} \\times I \\cdot \\vec{r}\n",
    "$\n",
    "\n",
    "Let $\\vec{r}$ be expressed as $x\\widehat{X} + y\\widehat{Y} + z\\widehat{Z}$ where $\\widehat{X}, \\widehat{Y}, \\widehat{Z}$ are expressed in the principal coordinate frame. When $z=0$, this reduces to\n",
    "\n",
    "$\n",
    "\\vec{\\tau} = \\frac{3\\mu}{r^5}(x\\widehat{X} + y\\widehat{Y}) \\times (I_x x\\widehat{X} + I_y y\\widehat{Y})\n",
    "$\n",
    "\n",
    "Applying this cross product yields the relation\n",
    "\n",
    "$\n",
    "\\vec{\\tau} = \\frac{3\\mu}{r^5}(I_y-I_x)yx\\widehat{Z}\n",
    "$\n",
    "\n",
    "Dotting this expression with $\\widehat{Z}$ yields\n",
    "\n",
    "$\n",
    "\\tau_z = \\frac{3\\mu}{r^5}(I_y-I_x)yx\n",
    "$"
   ]
  },
  {
   "attachments": {},
   "cell_type": "markdown",
   "metadata": {},
   "source": [
    "### 5b)"
   ]
  },
  {
   "attachments": {},
   "cell_type": "markdown",
   "metadata": {},
   "source": [
    "Note that the $yx$ term is equivalent to\n",
    "\n",
    "$\n",
    "r^2\\sin(\\theta)\\cos(\\theta),\n",
    "$\n",
    "\n",
    "where $\\theta$ is the angle from $\\widehat{X}$ to $\\vec{r}$. This term can be rewritten as\n",
    "\n",
    "$\n",
    "\\frac{1}{2}r^2\\sin(2\\theta)\n",
    "$\n",
    "\n",
    "This term is maximized at $\\theta=45^{\\circ}$ for a value of $\\frac{1}{2}r^2$. Therefore, the maximum gravity-gradient torque over an orbit is\n",
    "\n",
    "$\n",
    "\\tau_z = \\frac{3\\mu}{2r^3}(I_y-I_x)\n",
    "$"
   ]
  },
  {
   "cell_type": "markdown",
   "metadata": {},
   "source": [
    "### 5c)"
   ]
  },
  {
   "cell_type": "code",
   "execution_count": 26,
   "metadata": {},
   "outputs": [
    {
     "data": {
      "text/plain": [
       "Text(0, 0.5, 'Torque [mN-m]')"
      ]
     },
     "execution_count": 26,
     "metadata": {},
     "output_type": "execute_result"
    },
    {
     "data": {
      "image/png": "[encoded data removed]",
      "text/plain": [
       "<Figure size 640x480 with 1 Axes>"
      ]
     },
     "metadata": {},
     "output_type": "display_data"
    }
   ],
   "source": [
    "# Constants\n",
    "mu = 3.978E14\n",
    "R_earth = 6378E3\n",
    "Ix = 100\n",
    "Iy = 200\n",
    "\n",
    "# Define altitude vector\n",
    "alts = np.linspace(100E3,1000E3,100)\n",
    "\n",
    "# r is measured from the center of the Earth, so we need to include Earth's radius\n",
    "r = R_earth + alts\n",
    "Tz = 3/2*mu/r**3*(Iy - Ix)\n",
    "\n",
    "# Plot a figure to see when it's equal to 0.2 mN-m\n",
    "plt.figure()\n",
    "plt.plot(alts/1000,Tz*1000)\n",
    "plt.xlabel(\"Altitude [km]\")\n",
    "plt.ylabel(\"Torque [mN-m]\")"
   ]
  },
  {
   "cell_type": "code",
   "execution_count": 27,
   "metadata": {},
   "outputs": [
    {
     "name": "stdout",
     "output_type": "stream",
     "text": [
      "Minimum altitude = 304040.10011827206 meters\n"
     ]
    }
   ],
   "source": [
    "# Print altitude where torque crosses 0.2 nN-m\n",
    "print(\"Minimum altitude = \" + str(np.interp(0.2/1000,Tz[::-1],alts[::-1])) + \" meters\")"
   ]
  }
 ],
 "metadata": {
  "kernelspec": {
   "display_name": "base",
   "language": "python",
   "name": "python3"
  },
  "language_info": {
   "codemirror_mode": {
    "name": "ipython",
    "version": 3
   },
   "file_extension": ".py",
   "mimetype": "text/x-python",
   "name": "python",
   "nbconvert_exporter": "python",
   "pygments_lexer": "ipython3",
   "version": "3.12.7"
  },
  "orig_nbformat": 4
 },
 "nbformat": 4,
 "nbformat_minor": 2
}

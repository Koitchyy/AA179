{
 "cells": [
  {
   "cell_type": "code",
   "execution_count": 14,
   "metadata": {
    "id": "tmsEwld11QDV"
   },
   "outputs": [],
   "source": [
    "import sys\n",
    "sys.path.append('src/')\n",
    "import numpy as np\n",
    "import matplotlib.pyplot as plt\n",
    "import coordinates as coord\n",
    "import spiceypy as spice\n",
    "metakernel_path = \"SPICE/metakernel_eclipse.txt\"\n",
    "spice.furnsh(metakernel_path)"
   ]
  },
  {
   "cell_type": "markdown",
   "metadata": {
    "id": "NH9MOklF46tT"
   },
   "source": [
    "#### Constants"
   ]
  },
  {
   "cell_type": "code",
   "execution_count": 15,
   "metadata": {
    "id": "HjMZp3Ni48zZ"
   },
   "outputs": [],
   "source": [
    "pi      = np.pi\n",
    "deg2rad = pi / 180.0\n",
    "rad2deg = 180.0 / pi\n",
    "\n",
    "min2rad = deg2rad / 60.0\n",
    "rad2min = rad2deg * 60.0\n",
    "\n",
    "sec2rad = min2rad / 60.0\n",
    "rad2sec = rad2min * 60.0\n",
    "\n",
    "a_ell = 6378137.0\n",
    "c_ell = 6356752.314245\n",
    "e_ell = np.sqrt(1 - c_ell ** 2  / a_ell ** 2)\n",
    "\n",
    "R_sun  = 696000000.0\n",
    "R_moon = 1737000.0"
   ]
  },
  {
   "cell_type": "markdown",
   "metadata": {
    "id": "NXtYbmCR1dJe"
   },
   "source": [
    "\n",
    "\n",
    "### Question 1\n",
    "When multiplying the rotations, you go from the right (first rotation) to the left (last rotation). Thus, from left to right, you will rotate about the X-axis, about the Y-axis, and then about the Z-axis. The sequence of rotations can be applied as:\n",
    "\n",
    "$\n",
    "\\begin{bmatrix}\n",
    "1 & 0 & 0 \\\\\n",
    "0 & \\cos(\\alpha) & \\sin(\\alpha) \\\\\n",
    "0 & -\\sin(\\alpha) & \\cos(\\alpha)\n",
    "\\end{bmatrix}\n",
    "\\begin{bmatrix}\n",
    "\\cos(\\beta) & 0 & -\\sin(\\beta) \\\\\n",
    "0 & 1 & 0 \\\\\n",
    "\\sin(\\beta) & 0 & \\cos(\\beta)\n",
    "\\end{bmatrix}\n",
    "\\begin{bmatrix}\n",
    "\\cos(\\gamma) & \\sin(\\gamma) & 0 \\\\\n",
    "-\\sin(\\gamma) & \\cos(\\gamma) & 0 \\\\\n",
    "0 & 0 & 1\n",
    "\\end{bmatrix}\n",
    "$\n",
    "\n",
    "\n",
    "Multiplying this out, we get:\n",
    "$\n",
    "\\begin{bmatrix}\n",
    "    \\cos(\\beta)\\cos(\\gamma) & \\cos(\\beta)\\sin(\\gamma) & -\\sin(\\beta) \\\\\n",
    "    \\cos(\\gamma)\\sin(\\alpha)\\sin(\\beta) - \\cos(\\alpha)\\sin(\\gamma) & \\cos(\\alpha)\\cos(\\gamma) + \\sin(\\alpha)\\sin(\\beta)\\sin(\\gamma) & \\cos(\\beta)\\sin(\\alpha) \\\\\n",
    "    \\sin(\\alpha)\\sin(\\gamma) + \\cos(\\alpha)\\cos(\\gamma)\\sin(\\beta) & \\cos(\\alpha)\\sin(\\beta)\\sin(\\gamma) - \\cos(\\gamma)\\sin(\\alpha) & \\cos(\\alpha)\\cos(\\beta)\n",
    "\\end{bmatrix}\n",
    "$"
   ]
  },
  {
   "cell_type": "markdown",
   "metadata": {
    "id": "hs1pWGxC4LeE"
   },
   "source": [
    "### Question 2"
   ]
  },
  {
   "cell_type": "markdown",
   "metadata": {
    "id": "PY5SQdFO6OsV"
   },
   "source": [
    "#### 2a)"
   ]
  },
  {
   "cell_type": "markdown",
   "metadata": {},
   "source": [
    "We first make a function that will convert from degree, minute, second to a decimal number."
   ]
  },
  {
   "cell_type": "code",
   "execution_count": 16,
   "metadata": {
    "id": "twCJj3pL5aND"
   },
   "outputs": [],
   "source": [
    "def dms_to_dd(d, m, s):\n",
    "    if d < 0:\n",
    "        dd = float(d) - float(m)/60 - float(s)/3600\n",
    "    else:\n",
    "        dd = float(d) + float(m)/60 + float(s)/3600\n",
    "    return dd"
   ]
  },
  {
   "cell_type": "markdown",
   "metadata": {},
   "source": [
    "Then, we convert the Durand Building geodetic coordinates to decimal values and use coord.BLH2XYZ() to convert to ECEF coordinates."
   ]
  },
  {
   "cell_type": "code",
   "execution_count": 17,
   "metadata": {
    "colab": {
     "base_uri": "https://localhost:8080/"
    },
    "id": "ouRJeErF1c6o",
    "outputId": "9b9e2046-1dbd-4531-aa76-8ba855874618"
   },
   "outputs": [
    {
     "name": "stdout",
     "output_type": "stream",
     "text": [
      "0.6532269001750595 -2.132336669558196 35\n",
      "-2700446.8349183095 -4292573.444621282 3855167.2091753073\n"
     ]
    }
   ],
   "source": [
    "B_Durand = dms_to_dd(37, 25, 37.72) * deg2rad\n",
    "L_Durand = dms_to_dd(-122, 10, 26.01) * deg2rad\n",
    "H_Durand = 35\n",
    "(x_ecef_Durand, y_ecef_Durand, z_ecef_Durand) = coord.BLH2XYZ(B_Durand, L_Durand, H_Durand, a_ell, e_ell)\n",
    "\n",
    "print(B_Durand,L_Durand,H_Durand)\n",
    "print(x_ecef_Durand,y_ecef_Durand,z_ecef_Durand)\n"
   ]
  },
  {
   "cell_type": "markdown",
   "metadata": {
    "id": "itSkaOBM6RiH"
   },
   "source": [
    "#### 2b)"
   ]
  },
  {
   "cell_type": "markdown",
   "metadata": {},
   "source": [
    "The center of the Earth is at point (0,0,0) in the ECEF frame, so the distance between the center of the Earth and Durand is just:\n",
    "\n",
    "$$\\sqrt{x_{Durand}^2+y_{Durand}^2+z_{Durand}^2}$$"
   ]
  },
  {
   "cell_type": "code",
   "execution_count": 18,
   "metadata": {
    "colab": {
     "base_uri": "https://localhost:8080/"
    },
    "id": "BZT6GtBK6S9P",
    "outputId": "2e8829ab-0229-443f-e6bc-71c690d67fbe"
   },
   "outputs": [
    {
     "name": "stdout",
     "output_type": "stream",
     "text": [
      "6370315.070417526\n"
     ]
    }
   ],
   "source": [
    "print(np.sqrt( x_ecef_Durand**2 + y_ecef_Durand**2 + z_ecef_Durand**2))"
   ]
  },
  {
   "cell_type": "markdown",
   "metadata": {
    "id": "u-4dUy8P6uOk"
   },
   "source": [
    "#### 2c)"
   ]
  },
  {
   "cell_type": "markdown",
   "metadata": {},
   "source": [
    "The elevation in the East-North-Up coordinate system is the angle above the East-North plane. Thus, it is equal to:\n",
    "$$\\text{atan2}\\left( z_{ENU}, \\sqrt{x_{ENU}^2 + y_{ENU}^2} \\right)$$"
   ]
  },
  {
   "cell_type": "code",
   "execution_count": 19,
   "metadata": {
    "id": "UhnQUWYLpFa-"
   },
   "outputs": [],
   "source": [
    "def elevation(x_neu, y_neu, z_neu):\n",
    "    return np.arctan2(z_neu, np.sqrt(x_neu**2 + y_neu**2))"
   ]
  },
  {
   "cell_type": "markdown",
   "metadata": {},
   "source": [
    "The latitude, longitude, and elevation of the Campanile and Hoover Tower are found from Google and then converted to the ECEF frame. Then, the coordinate of the Campanile are transformed to the ENU coordinate frame with Hoover Tower as the reference location. Then, the elevation is computed using the function defined directly above."
   ]
  },
  {
   "cell_type": "code",
   "execution_count": 20,
   "metadata": {
    "colab": {
     "base_uri": "https://localhost:8080/"
    },
    "id": "zblabuWx6wyH",
    "outputId": "d15fb94e-4819-45e8-9ac4-283e4b72b82f"
   },
   "outputs": [
    {
     "name": "stdout",
     "output_type": "stream",
     "text": [
      "49333.53469014472 -7991.990833070045 -117.22719248084832\n",
      "-0.13439487547696655\n"
     ]
    }
   ],
   "source": [
    "B_Campanile = 37.87198097427293 * deg2rad\n",
    "L_Campanile = -122.25780722111945 * deg2rad\n",
    "H_Campanile = 94 + 96\n",
    "(x_ecef_Campanile, y_ecef_Campanile, z_ecef_Campanile) = coord.BLH2XYZ(B_Campanile, L_Campanile, H_Campanile, a_ell, e_ell)\n",
    "\n",
    "B_Hoover = 37.42753762534559 * deg2rad\n",
    "L_Hoover = -122.16697625074472 * deg2rad\n",
    "H_Hoover = 86.868 + 24\n",
    "(x_ecef_Hoover, y_ecef_Hoover, z_ecef_Hoover) = coord.BLH2XYZ(B_Hoover, L_Hoover, H_Hoover, a_ell, e_ell)\n",
    "\n",
    "(x_neu_hoover_to_campanile,y_neu_hoover_to_campanile,z_neu_hoover_to_campanile) = \\\n",
    "    coord.XYZ2NEU(x_ecef_Campanile,y_ecef_Campanile,z_ecef_Campanile,x_ecef_Hoover,y_ecef_Hoover,z_ecef_Hoover,a_ell,e_ell)\n",
    "print(x_neu_hoover_to_campanile,y_neu_hoover_to_campanile,z_neu_hoover_to_campanile)\n",
    "\n",
    "el_campanile_from_hoover = elevation(x_neu_hoover_to_campanile, y_neu_hoover_to_campanile, z_neu_hoover_to_campanile)\n",
    "print(el_campanile_from_hoover * rad2deg)"
   ]
  },
  {
   "cell_type": "markdown",
   "metadata": {
    "id": "EzDKRbBKHjfr"
   },
   "source": [
    "### Question 3"
   ]
  },
  {
   "cell_type": "markdown",
   "metadata": {},
   "source": [
    "We start by reading the data from the ISS coordinate text file and organizing into arrays of time, X, Y, and Z. We then convert these coordinates to the ENU frame with Durand as the reference location. Like we did in 2c, we use the elevation function to calculate the an array of the ISS elevation as a function of time."
   ]
  },
  {
   "cell_type": "code",
   "execution_count": 21,
   "metadata": {
    "id": "4HSM-ZCSHn6B"
   },
   "outputs": [
    {
     "name": "stdout",
     "output_type": "stream",
     "text": [
      "-2700446.8349183095\n"
     ]
    }
   ],
   "source": [
    "iss_data = np.loadtxt(\"data/ISS_coords.txt\")\n",
    "time = iss_data[:,0]\n",
    "x_ecef_iss = iss_data[:,1]\n",
    "y_ecef_iss = iss_data[:,2]\n",
    "z_ecef_iss = iss_data[:,3]\n",
    "\n",
    "(x_neu_durand_to_iss,y_neu_durand_to_iss,z_neu_durand_to_iss) = \\\n",
    "        coord.XYZ2NEU(x_ecef_iss,y_ecef_iss,z_ecef_iss,x_ecef_Durand,y_ecef_Durand,z_ecef_Durand,a_ell,e_ell)\n",
    "print(x_ecef_Durand)\n",
    "el_iss_from_durand = elevation(x_neu_durand_to_iss, y_neu_durand_to_iss, z_neu_durand_to_iss)"
   ]
  },
  {
   "cell_type": "markdown",
   "metadata": {},
   "source": [
    "Now, we plot this elevation vs. the tabulated time."
   ]
  },
  {
   "cell_type": "code",
   "execution_count": 22,
   "metadata": {
    "colab": {
     "base_uri": "https://localhost:8080/",
     "height": 467
    },
    "id": "uTfwM_3OLskl",
    "outputId": "a6850b35-02cc-4a8f-c498-c4b9cca96704"
   },
   "outputs": [
    {
     "data": {
      "text/plain": [
       "Text(0, 0.5, 'Elevation [deg]')"
      ]
     },
     "execution_count": 22,
     "metadata": {},
     "output_type": "execute_result"
    },
    {
     "data": {
      "image/png": "[encoded data removed]",
      "text/plain": [
       "<Figure size 640x480 with 1 Axes>"
      ]
     },
     "metadata": {},
     "output_type": "display_data"
    }
   ],
   "source": [
    "plt.figure()\n",
    "plt.plot(time,np.array(el_iss_from_durand) * rad2deg)\n",
    "plt.xlabel(\"Time [days]\")\n",
    "plt.ylabel(\"Elevation [deg]\")"
   ]
  },
  {
   "cell_type": "markdown",
   "metadata": {
    "id": "n-zHRKuJMA5J"
   },
   "source": [
    "### 3a)\n"
   ]
  },
  {
   "cell_type": "markdown",
   "metadata": {},
   "source": [
    "The maximum elevation is the maximum value in the elevation array. This value is in radians, and we convert to degrees."
   ]
  },
  {
   "cell_type": "code",
   "execution_count": 23,
   "metadata": {
    "colab": {
     "base_uri": "https://localhost:8080/"
    },
    "id": "RRXNALVLMLv_",
    "outputId": "b8aa15df-413e-4d77-c204-bc64c8ed27a9"
   },
   "outputs": [
    {
     "name": "stdout",
     "output_type": "stream",
     "text": [
      "83.91937939874983\n"
     ]
    }
   ],
   "source": [
    "print(max(el_iss_from_durand) * rad2deg)"
   ]
  },
  {
   "cell_type": "markdown",
   "metadata": {
    "id": "NpxdsuzKMQRj"
   },
   "source": [
    "### 3b)"
   ]
  },
  {
   "cell_type": "markdown",
   "metadata": {},
   "source": [
    "From the viewpoint of Durand, the ISS is in the sky when its elevation is greater than 0. To find the time it takes to cross the sky, we find the difference between the two times where the elevation is equal to zero. This is given in days, so we multiply by 86400 to get to seconds."
   ]
  },
  {
   "cell_type": "code",
   "execution_count": 24,
   "metadata": {
    "colab": {
     "base_uri": "https://localhost:8080/"
    },
    "id": "gS6U_oz6MUdi",
    "outputId": "14ee21e2-b99c-4901-e78a-fa43503f2ac2"
   },
   "outputs": [
    {
     "name": "stdout",
     "output_type": "stream",
     "text": [
      "656.9921699207498\n"
     ]
    }
   ],
   "source": [
    "indices_above_horizon = [(el > 0) for el in el_iss_from_durand]\n",
    "times_above_horizon = time[indices_above_horizon]\n",
    "print((times_above_horizon[-1] - times_above_horizon[0])*86400)"
   ]
  },
  {
   "cell_type": "markdown",
   "metadata": {
    "id": "2YFRgmDNObv5"
   },
   "source": [
    "#### 3c)\n",
    "If you convert to Pacific time, you find that the ISS elevation is greater than 0 during the afternoon. Since this is during the day, we can assume that the ISS is not visible. If this was a lower elevation pass during the night, one may also need to consider if there is any infrasructure blocking the view."
   ]
  },
  {
   "cell_type": "markdown",
   "metadata": {
    "id": "uV5JEyQsurxE"
   },
   "source": [
    "### Question 4"
   ]
  },
  {
   "cell_type": "markdown",
   "metadata": {},
   "source": [
    "Define the orbit parameters."
   ]
  },
  {
   "cell_type": "code",
   "execution_count": 25,
   "metadata": {
    "id": "MsHk-A5Xuuiq"
   },
   "outputs": [],
   "source": [
    "e_moon = 0.055\n",
    "a_moon = 384000     # km\n",
    "radius_moon = 1740  # km\n",
    "e_earth = 0.017\n",
    "a_earth = 149600000 # km\n",
    "radius_earth = 6378 # km\n",
    "radius_sun = 696000 # km"
   ]
  },
  {
   "cell_type": "markdown",
   "metadata": {
    "id": "TghdjB7qvvhA"
   },
   "source": [
    "#### 4a)"
   ]
  },
  {
   "cell_type": "markdown",
   "metadata": {},
   "source": [
    "The maximum possible total eclipse magnitude will occur when the moon is closest to the Earth while the Sun is farthest from the Earth.\n",
    "\n",
    "We calculate the approximate angular size of the moon and the Sun at these locations, and the eclipse magnitude will be the ratio of these angular sizes."
   ]
  },
  {
   "cell_type": "code",
   "execution_count": 26,
   "metadata": {
    "colab": {
     "base_uri": "https://localhost:8080/"
    },
    "id": "0uxUNFxyvxBk",
    "outputId": "e4d210ac-24dd-4883-87d6-f54bc8ea9844"
   },
   "outputs": [
    {
     "name": "stdout",
     "output_type": "stream",
     "text": [
      "1.0481646825396824\n"
     ]
    }
   ],
   "source": [
    "dist_earthmoon_min = a_moon * (1 - e_moon)\n",
    "ang_moon_max = 2 * radius_moon / dist_earthmoon_min # max angle swept by moon in the sky\n",
    "dist_earthsun_max = a_earth * (1 + e_earth)\n",
    "ang_sun_min = 2 * radius_sun / dist_earthsun_max # min angle swept by sun in the sky\n",
    "eclipse_magnitude_max = ang_moon_max / ang_sun_min\n",
    "print(eclipse_magnitude_max)"
   ]
  },
  {
   "cell_type": "markdown",
   "metadata": {
    "id": "a7mO4FCVykrd"
   },
   "source": [
    "#### 4b)\n",
    "\n",
    "The minimum possible annular eclipse magnitude will occur when the moon is farthest from the Earth while the Sun is closest to the Earth.\n",
    "\n",
    "We calculate the approximate angular size of the moon and the Sun at these locations, and the eclipse magnitude will be the ratio of these angular sizes."
   ]
  },
  {
   "cell_type": "code",
   "execution_count": 27,
   "metadata": {
    "colab": {
     "base_uri": "https://localhost:8080/"
    },
    "id": "eNKJ0BCqy0Ll",
    "outputId": "b50d765a-63b3-46a9-945e-7ee363c621fe"
   },
   "outputs": [
    {
     "name": "stdout",
     "output_type": "stream",
     "text": [
      "0.9074891390205371\n"
     ]
    }
   ],
   "source": [
    "dist_earthmoon_max = a_moon * (1 + e_moon)\n",
    "ang_moon_min = 2 * radius_moon / dist_earthmoon_max # min angle swept by moon in the sky\n",
    "dist_earthsun_min = a_earth * (1 - e_earth)\n",
    "ang_sun_max = 2 * radius_sun / dist_earthsun_min # max angle swept by sun in the sky\n",
    "eclipse_magnitude_min = ang_moon_min / ang_sun_max\n",
    "print(eclipse_magnitude_min)"
   ]
  },
  {
   "cell_type": "markdown",
   "metadata": {},
   "source": [
    "#### 4c)\n",
    "\n",
    "Similarly, the maximum possible solar eclipse magnitude observed from the moon will occur when the Earth is closest to the moon while the Sun is farthest from the moon.\n",
    "\n",
    "We calculate the approximate angular size of the Earth and the Sun at these locations, and the eclipse magnitude will be the ratio of these angular sizes."
   ]
  },
  {
   "cell_type": "code",
   "execution_count": 28,
   "metadata": {},
   "outputs": [
    {
     "name": "stdout",
     "output_type": "stream",
     "text": [
      "3.8517628512132815\n"
     ]
    }
   ],
   "source": [
    "dist_earthmoon_min = a_moon * (1 - e_moon)\n",
    "ang_earth_max = 2 * radius_earth / dist_earthmoon_min   # max angle swept by Earth in the sky\n",
    "dist_earthsun_max = a_earth * (1 + e_earth)\n",
    "dis_moonsun_max = dist_earthsun_max + a_moon\n",
    "ang_sun_min = 2 * radius_sun / dis_moonsun_max          # min angle swept by sun in the sky\n",
    "eclipse_magnitude_min = ang_earth_max / ang_sun_min\n",
    "print(eclipse_magnitude_min)"
   ]
  },
  {
   "cell_type": "markdown",
   "metadata": {
    "id": "PP8q1NGcBSuz"
   },
   "source": [
    "#### 4d) \n",
    "Compute the duration of an eclipse in Austin, Texas. We copy the code from \"lecture3_eclipse.ipynb\" but look only at the latitude and longitude of Austin.\n",
    "\n",
    "We compute the positions of the sun and moon during the times of the April 8 eclipse, and we compute the location of the shadow cast on the Earth."
   ]
  },
  {
   "cell_type": "code",
   "execution_count": 29,
   "metadata": {
    "id": "spzw679IBVsh"
   },
   "outputs": [],
   "source": [
    "B_austin = 30.2672  * deg2rad\n",
    "L_austin = -97.7431 * deg2rad\n",
    "H_austin = 150.0\n",
    "n_steps  = 10000\n",
    "t_start  = '2024 APR 08 16:17:22.0000'\n",
    "t_end    = '2024 APR 08 20:17:22.0000'\n",
    "et_start = spice.str2et(t_start)\n",
    "et_end   = spice.str2et(t_end)\n",
    "times    = np.linspace(et_start, et_end, n_steps)\n",
    "\n",
    "state_sun  = np.zeros((6, len(times)))\n",
    "state_moon = np.zeros((6, len(times)))\n",
    "\n",
    "x_austin, y_austin, z_austin = coord.BLH2XYZ(B_austin, L_austin, H_austin, a_ell, e_ell)\n",
    "\n",
    "#Run spkpos as a vectorized function\n",
    "for i in range(len(times)):\n",
    "    state_sun[:,i], _  = spice.spkez(10, times[i], 'ITRF93', \"LT+S\", 399)\n",
    "    state_moon[:,i], _ = spice.spkez(301, times[i], 'ITRF93', \"LT+S\", 399)\n",
    "\n",
    "state_sun  = state_sun * 1e3\n",
    "state_moon = state_moon * 1e3\n",
    "\n",
    "r_MS = np.sqrt((state_sun[0,:] - state_moon[0,:]) ** 2 +\\\n",
    "               (state_sun[1,:] - state_moon[1,:]) ** 2 +\n",
    "               (state_sun[2,:] - state_moon[2,:]) ** 2)\n",
    "\n",
    "d_shadow = (R_moon * r_MS) / (R_sun - R_moon)\n",
    "\n",
    "pos_shadow_tip = state_moon[0:3,:] + (state_moon[0:3,:] - state_sun[0:3,:]) / r_MS * d_shadow"
   ]
  },
  {
   "cell_type": "markdown",
   "metadata": {},
   "source": [
    "Define a function that returns whether a location is in the shadow cone."
   ]
  },
  {
   "cell_type": "code",
   "execution_count": 30,
   "metadata": {},
   "outputs": [],
   "source": [
    "def is_in_cone(p, cone_tip,cone_dir,cone_height,cone_base_radius):\n",
    "    cone_dist = np.dot(p - cone_tip, cone_dir)\n",
    "    if (0.0 < cone_dist) and (cone_dist < cone_height):\n",
    "        cone_radius   = cone_dist / cone_height * cone_base_radius\n",
    "        orth = p - cone_tip - cone_dist * cone_dir\n",
    "        orth_distance = np.sqrt(orth[0] ** 2 + orth[1] ** 2 + orth[2] ** 2)\n",
    "        if orth_distance < cone_radius:\n",
    "            return 1\n",
    "        else:\n",
    "            return 0\n",
    "    else:\n",
    "        return 0"
   ]
  },
  {
   "cell_type": "markdown",
   "metadata": {},
   "source": [
    "Check if Austin is in the shadow cone for each time during the eclipse."
   ]
  },
  {
   "cell_type": "code",
   "execution_count": 31,
   "metadata": {
    "id": "egLwXp9xBqmw"
   },
   "outputs": [],
   "source": [
    "is_in_eclipse = np.zeros(times.shape)\n",
    "\n",
    "for k in range(len(times)):\n",
    "\n",
    "    h        = d_shadow[k]\n",
    "    x        = pos_shadow_tip[:,k]\n",
    "    v        = (state_moon[0:3,k] - x) / h\n",
    "    h        = d_shadow[k]\n",
    "\n",
    "    p = np.array([x_austin,y_austin,z_austin])\n",
    "    is_in_eclipse[k] = is_in_cone(p, x, v, h, R_moon)"
   ]
  },
  {
   "cell_type": "markdown",
   "metadata": {},
   "source": [
    "Now, we plot when Austin is in the shadow (value of 1)."
   ]
  },
  {
   "cell_type": "code",
   "execution_count": 32,
   "metadata": {
    "id": "l9zbPEn_BtvB"
   },
   "outputs": [
    {
     "data": {
      "text/plain": [
       "[<matplotlib.lines.Line2D at 0x1b362289670>]"
      ]
     },
     "execution_count": 32,
     "metadata": {},
     "output_type": "execute_result"
    },
    {
     "data": {
      "image/png": "[encoded data removed]",
      "text/plain": [
       "<Figure size 640x480 with 1 Axes>"
      ]
     },
     "metadata": {},
     "output_type": "display_data"
    }
   ],
   "source": [
    "plt.plot(times - times[0],is_in_eclipse)"
   ]
  },
  {
   "cell_type": "markdown",
   "metadata": {},
   "source": [
    "The number of seconds when Austin is completely in shadow can be calculated as the times when the value is equal to 1."
   ]
  },
  {
   "cell_type": "code",
   "execution_count": 33,
   "metadata": {},
   "outputs": [
    {
     "name": "stdout",
     "output_type": "stream",
     "text": [
      "102.25022494792938\n",
      "8433.48334801197\n",
      "8331.233123064041\n"
     ]
    }
   ],
   "source": [
    "print(times[is_in_eclipse == 1.0][-1] - times[is_in_eclipse == 1.0][0])\n",
    "print(times[is_in_eclipse == 1.0][-1] - times[0])\n",
    "print(times[is_in_eclipse == 1.0][0] - times[0])"
   ]
  },
  {
   "cell_type": "markdown",
   "metadata": {
    "id": "1HUPgTDko91z"
   },
   "source": [
    "### Question 5"
   ]
  },
  {
   "cell_type": "markdown",
   "metadata": {
    "id": "3YRtmv6Cr34I"
   },
   "source": [
    "#### 5a)"
   ]
  },
  {
   "cell_type": "markdown",
   "metadata": {},
   "source": [
    "We start by converting the coordinates of Vandenberg Air Force Base to the ECEF frame. Then, we find the coordinates of Vandenberg Air Force Base in the ENU frame with reference to the Durand Building."
   ]
  },
  {
   "cell_type": "code",
   "execution_count": 43,
   "metadata": {
    "colab": {
     "base_uri": "https://localhost:8080/"
    },
    "id": "bbTSdx2IqjbB",
    "outputId": "e7455776-bda8-48da-98c8-de75c9de171a"
   },
   "outputs": [
    {
     "name": "stdout",
     "output_type": "stream",
     "text": [
      "-4514386.081865029\n",
      "-295165.26004447823 142029.72087982768 -8415.520173436496\n"
     ]
    }
   ],
   "source": [
    "B_Vandy = dms_to_dd(34, 45, 20.09) * deg2rad\n",
    "L_Vandy = dms_to_dd(-120, 37, 20.91) * deg2rad\n",
    "H_Vandy = 56\n",
    "(x_ecef_Vandy, y_ecef_Vandy, z_ecef_Vandy) = coord.BLH2XYZ(B_Vandy, L_Vandy, H_Vandy, a_ell, e_ell)\n",
    "(x_neu_durand_to_vandy,y_neu_durand_to_vandy,z_neu_durand_to_vandy) = \\\n",
    "    coord.XYZ2NEU(x_ecef_Vandy,y_ecef_Vandy,z_ecef_Vandy,x_ecef_Durand,y_ecef_Durand,z_ecef_Durand,a_ell,e_ell)\n",
    "print(y_ecef_Vandy)\n",
    "print(x_neu_durand_to_vandy,y_neu_durand_to_vandy,z_neu_durand_to_vandy)"
   ]
  },
  {
   "cell_type": "markdown",
   "metadata": {},
   "source": [
    "Define a function that calculates the azimuth (angle east of north)."
   ]
  },
  {
   "cell_type": "code",
   "execution_count": 35,
   "metadata": {
    "id": "Qe13QBVlsAXF"
   },
   "outputs": [],
   "source": [
    "def azimuth(x_neu,y_neu):\n",
    "    return np.arctan2(y_neu,x_neu)"
   ]
  },
  {
   "cell_type": "markdown",
   "metadata": {},
   "source": [
    "Now, calculate the azimuth and elevation of Vandenberg Air Force Base and convert to degrees."
   ]
  },
  {
   "cell_type": "code",
   "execution_count": 45,
   "metadata": {
    "colab": {
     "base_uri": "https://localhost:8080/"
    },
    "id": "mNUZS682tD9o",
    "outputId": "04762ae3-d66f-4938-ab36-c22a4758da12"
   },
   "outputs": [
    {
     "name": "stdout",
     "output_type": "stream",
     "text": [
      "154.3037394961327 -1.4716969362085683\n"
     ]
    }
   ],
   "source": [
    "az_durand_to_vandy = azimuth(x_neu_durand_to_vandy, y_neu_durand_to_vandy)\n",
    "el_durand_to_vandy = elevation(x_neu_durand_to_vandy, y_neu_durand_to_vandy, z_neu_durand_to_vandy)\n",
    "print(az_durand_to_vandy * rad2deg, el_durand_to_vandy * rad2deg)"
   ]
  },
  {
   "cell_type": "markdown",
   "metadata": {
    "id": "7iTQ7B4YHlcr"
   },
   "source": [
    "#### 5b)"
   ]
  },
  {
   "cell_type": "markdown",
   "metadata": {},
   "source": [
    "We will now have a rocket starting at the Vandenberg Air Force Base and travelling straight up. This means only the height will change (latitude and longitude stay constant). We convert the coordinates of the rocket to the ENU frame with Durand as the reference point and then calculate the elevation at each rocket height."
   ]
  },
  {
   "cell_type": "code",
   "execution_count": 37,
   "metadata": {
    "id": "Udeaf-00uEmz"
   },
   "outputs": [],
   "source": [
    "heights = np.linspace(0,20000,20000)\n",
    "(x_ecef_Vandy_curr, y_ecef_Vandy_curr, z_ecef_Vandy_curr) = coord.BLH2XYZ(B_Vandy, L_Vandy, heights, a_ell, e_ell)\n",
    "(x_neu_durand_to_vandy_curr,y_neu_durand_to_vandy_curr,z_neu_durand_to_vandy_curr) = \\\n",
    "    coord.XYZ2NEU(x_ecef_Vandy_curr,y_ecef_Vandy_curr,z_ecef_Vandy_curr,x_ecef_Durand,y_ecef_Durand,z_ecef_Durand,a_ell,e_ell)\n",
    "\n",
    "els_durand_to_vandy = elevation(x_neu_durand_to_vandy_curr, y_neu_durand_to_vandy_curr, z_neu_durand_to_vandy_curr)"
   ]
  },
  {
   "cell_type": "markdown",
   "metadata": {},
   "source": [
    "Now, we plot the elevation of the rocket as a function of its height."
   ]
  },
  {
   "cell_type": "code",
   "execution_count": 38,
   "metadata": {
    "colab": {
     "base_uri": "https://localhost:8080/",
     "height": 467
    },
    "id": "idJIRMfsvCXd",
    "outputId": "ce11f64b-0196-476b-c886-525deaed1d6d"
   },
   "outputs": [
    {
     "data": {
      "text/plain": [
       "Text(0, 0.5, 'Elevation [deg]')"
      ]
     },
     "execution_count": 38,
     "metadata": {},
     "output_type": "execute_result"
    },
    {
     "data": {
      "image/png": "[encoded data removed]",
      "text/plain": [
       "<Figure size 640x480 with 1 Axes>"
      ]
     },
     "metadata": {},
     "output_type": "display_data"
    }
   ],
   "source": [
    "plt.figure()\n",
    "plt.plot(heights, np.array(els_durand_to_vandy) * rad2deg)\n",
    "plt.xlabel(\"Heights [m]\")\n",
    "plt.ylabel(\"Elevation [deg]\")"
   ]
  },
  {
   "cell_type": "markdown",
   "metadata": {},
   "source": [
    "We find the height where the elevation crosses from negative to positive (crosses the horizon)."
   ]
  },
  {
   "cell_type": "code",
   "execution_count": 39,
   "metadata": {
    "colab": {
     "base_uri": "https://localhost:8080/"
    },
    "id": "Q9zhIUKbvgbQ",
    "outputId": "4c77ee77-2457-4983-9d82-7962bdbd715d"
   },
   "outputs": [
    {
     "name": "stdout",
     "output_type": "stream",
     "text": [
      "8483.42417120856\n"
     ]
    }
   ],
   "source": [
    "index_rocket_visible = [(el > 0) for el in els_durand_to_vandy]\n",
    "els_rocket_visible = np.array(els_durand_to_vandy)[index_rocket_visible]\n",
    "print(np.array(heights)[index_rocket_visible][0])"
   ]
  },
  {
   "cell_type": "markdown",
   "metadata": {
    "id": "4srccUqoxrXu"
   },
   "source": [
    "### 5c)\n",
    "Likely not. There is significant building obstruction in the direction of Vandenburg from the 4th floor of Durand, which will prevent us from seeing the low elevation flight of any rockets. Waiting for the launches to gain altitude would not help much either, as the rockets would likely perform their gravity turns prior to reaching a sufficient elevation angle for visibility."
   ]
  },
  {
   "cell_type": "markdown",
   "metadata": {
    "id": "sW1Gm9CtyUCf"
   },
   "source": [
    "#### 5d)\n",
    "The dish might be a good location! You have a fair amount of altitude here, and don't have any obstrucution from Stanford buildings. This will all help in minimizng the elevation angle at which you have line of sight to Vandeburg, increasing chance of visibility."
   ]
  }
 ],
 "metadata": {
  "colab": {
   "provenance": []
  },
  "kernelspec": {
   "display_name": "base",
   "language": "python",
   "name": "python3"
  },
  "language_info": {
   "codemirror_mode": {
    "name": "ipython",
    "version": 3
   },
   "file_extension": ".py",
   "mimetype": "text/x-python",
   "name": "python",
   "nbconvert_exporter": "python",
   "pygments_lexer": "ipython3",
   "version": "3.12.7"
  }
 },
 "nbformat": 4,
 "nbformat_minor": 4
}
